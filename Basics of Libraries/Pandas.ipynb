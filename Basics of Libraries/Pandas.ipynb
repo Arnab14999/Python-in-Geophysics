{
 "cells": [
  {
   "cell_type": "markdown",
   "id": "2a09af3d",
   "metadata": {},
   "source": [
    "## Importing library"
   ]
  },
  {
   "cell_type": "code",
   "execution_count": 1,
   "id": "9719809a",
   "metadata": {},
   "outputs": [],
   "source": [
    "import pandas as pd\n",
    "import numpy as np"
   ]
  },
  {
   "cell_type": "markdown",
   "id": "81e712ec",
   "metadata": {},
   "source": [
    "## Creating a Pandas Dataframe"
   ]
  },
  {
   "cell_type": "markdown",
   "id": "c3f79689",
   "metadata": {},
   "source": [
    "#### (1) Creating a blank dataframe"
   ]
  },
  {
   "cell_type": "code",
   "execution_count": 2,
   "id": "d7a04a65",
   "metadata": {},
   "outputs": [
    {
     "name": "stdout",
     "output_type": "stream",
     "text": [
      "Empty DataFrame\n",
      "Columns: []\n",
      "Index: []\n"
     ]
    }
   ],
   "source": [
    "df1=pd.DataFrame()\n",
    "print(df1)"
   ]
  },
  {
   "cell_type": "markdown",
   "id": "44b5d546",
   "metadata": {},
   "source": [
    "#### (2) Creating a dataframe with columns"
   ]
  },
  {
   "cell_type": "code",
   "execution_count": 3,
   "id": "22b46d7c",
   "metadata": {},
   "outputs": [],
   "source": [
    "df1=pd.DataFrame({'Student Name':['A','B','C','D','E','F','G'],\n",
    "                  'Maths':[92,58,75,89,63,75,86],\n",
    "                  'Science':[89,67,85,49,76,83,87],\n",
    "                  'Literature':[68,89,70,78,95,48,71]})"
   ]
  },
  {
   "cell_type": "markdown",
   "id": "d88c17bf",
   "metadata": {},
   "source": [
    "## Viewing Dataframe"
   ]
  },
  {
   "cell_type": "code",
   "execution_count": 4,
   "id": "453842b7",
   "metadata": {},
   "outputs": [
    {
     "name": "stdout",
     "output_type": "stream",
     "text": [
      "  Student Name  Maths  Science  Literature\n",
      "0            A     92       89          68\n",
      "1            B     58       67          89\n",
      "2            C     75       85          70\n",
      "3            D     89       49          78\n",
      "4            E     63       76          95\n"
     ]
    }
   ],
   "source": [
    "print(df1.head())\n",
    "#Note head function prints first 5 elements of the dataframe"
   ]
  },
  {
   "cell_type": "code",
   "execution_count": 5,
   "id": "8976ae90",
   "metadata": {},
   "outputs": [
    {
     "name": "stdout",
     "output_type": "stream",
     "text": [
      "  Student Name  Maths  Science  Literature\n",
      "2            C     75       85          70\n",
      "3            D     89       49          78\n",
      "4            E     63       76          95\n",
      "5            F     75       83          48\n",
      "6            G     86       87          71\n"
     ]
    }
   ],
   "source": [
    "print(df1.tail())\n",
    "#Note tail function prints last 5 elements in dataframe"
   ]
  },
  {
   "cell_type": "markdown",
   "id": "5a5e62c4",
   "metadata": {},
   "source": [
    "#### Printing statistics of the dataframe"
   ]
  },
  {
   "cell_type": "code",
   "execution_count": 6,
   "id": "6f63ab50",
   "metadata": {},
   "outputs": [
    {
     "name": "stdout",
     "output_type": "stream",
     "text": [
      "           Maths    Science  Literature\n",
      "count   7.000000   7.000000    7.000000\n",
      "mean   76.857143  76.571429   74.142857\n",
      "std    13.005493  14.304511   15.377782\n",
      "min    58.000000  49.000000   48.000000\n",
      "25%    69.000000  71.500000   69.000000\n",
      "50%    75.000000  83.000000   71.000000\n",
      "75%    87.500000  86.000000   83.500000\n",
      "max    92.000000  89.000000   95.000000\n"
     ]
    }
   ],
   "source": [
    "print(df1.describe())"
   ]
  },
  {
   "cell_type": "markdown",
   "id": "85285d44",
   "metadata": {},
   "source": [
    "## Operations on Dataframe"
   ]
  },
  {
   "attachments": {},
   "cell_type": "markdown",
   "id": "5dca9745",
   "metadata": {},
   "source": [
    "#### (1) Retrieving the column names "
   ]
  },
  {
   "cell_type": "code",
   "execution_count": 7,
   "id": "2d264fa2",
   "metadata": {},
   "outputs": [
    {
     "name": "stdout",
     "output_type": "stream",
     "text": [
      "Columns of the dataframe :  ['Student Name' 'Maths' 'Science' 'Literature']\n"
     ]
    }
   ],
   "source": [
    "columns=df1.columns\n",
    "print('Columns of the dataframe : ',np.asarray(columns))\n",
    "\n",
    "#Note here numpy array is used to convert the dataframe series into array"
   ]
  },
  {
   "cell_type": "markdown",
   "id": "e58ad1c1",
   "metadata": {},
   "source": [
    "#### (2) Retrieving a column data from the dataframe"
   ]
  },
  {
   "cell_type": "code",
   "execution_count": 8,
   "id": "0fd5bb25",
   "metadata": {},
   "outputs": [
    {
     "name": "stdout",
     "output_type": "stream",
     "text": [
      "Marks in Literature :  [68 89 70 78 95 48 71]\n"
     ]
    }
   ],
   "source": [
    "#Printing the Literature marks column\n",
    "print('Marks in Literature : ',np.asarray(df1['Literature']))\n",
    "\n",
    "#Note here numpy array is used to convert the dataframe series into array"
   ]
  },
  {
   "cell_type": "markdown",
   "id": "577e1641",
   "metadata": {},
   "source": [
    "#### (3) Retrieving a row data from the dataframe"
   ]
  },
  {
   "cell_type": "code",
   "execution_count": 9,
   "id": "2b1489fb",
   "metadata": {},
   "outputs": [
    {
     "name": "stdout",
     "output_type": "stream",
     "text": [
      "Data of third row :  ['C' 75 85 70]\n"
     ]
    }
   ],
   "source": [
    "#Printing the data of 3rd row\n",
    "print('Data of third row : ',np.asarray(df1.iloc[2]))\n",
    "\n",
    "#Note here numpy array is used to convert the dataframe series into array"
   ]
  },
  {
   "cell_type": "markdown",
   "id": "59eb5f30",
   "metadata": {},
   "source": [
    "#### (4) Adding new column to an existing dataframe"
   ]
  },
  {
   "cell_type": "code",
   "execution_count": 10,
   "id": "ddb31eff",
   "metadata": {},
   "outputs": [
    {
     "name": "stdout",
     "output_type": "stream",
     "text": [
      "Dataframe before addition\n",
      "  Student Name  Maths  Science  Literature\n",
      "0            A     92       89          68\n",
      "1            B     58       67          89\n",
      "2            C     75       85          70\n",
      "3            D     89       49          78\n",
      "4            E     63       76          95\n",
      "Dataframe after addition\n",
      "  Student Name  Maths  Science  Literature  History\n",
      "0            A     92       89          68       85\n",
      "1            B     58       67          89       96\n",
      "2            C     75       85          70       45\n",
      "3            D     89       49          78       63\n",
      "4            E     63       76          95       72\n"
     ]
    }
   ],
   "source": [
    "print('Dataframe before addition')\n",
    "print(df1.head())\n",
    "\n",
    "print('Dataframe after addition')\n",
    "df1['History']=[85,96,45,63,72,81,89]\n",
    "print(df1.head())"
   ]
  },
  {
   "cell_type": "markdown",
   "id": "9105bb2e",
   "metadata": {},
   "source": [
    "#### (5) Adding new row to an existing dataframe"
   ]
  },
  {
   "cell_type": "code",
   "execution_count": 11,
   "id": "b6ff0ad6",
   "metadata": {},
   "outputs": [
    {
     "name": "stdout",
     "output_type": "stream",
     "text": [
      "Dataframe before addition\n",
      "  Student Name  Maths  Science  Literature  History\n",
      "0            A     92       89          68       85\n",
      "1            B     58       67          89       96\n",
      "2            C     75       85          70       45\n",
      "3            D     89       49          78       63\n",
      "4            E     63       76          95       72\n",
      "Dataframe after addition\n",
      "  Student Name  Maths  Science  Literature  History\n",
      "0            A     92       89          68       85\n",
      "1            B     58       67          89       96\n",
      "2            C     75       85          70       45\n",
      "3            D     89       49          78       63\n",
      "4            E     63       76          95       72\n",
      "5            F     75       83          48       81\n",
      "6            G     86       87          71       89\n",
      "7            F     59       76          55       91\n"
     ]
    }
   ],
   "source": [
    "print('Dataframe before addition')\n",
    "print(df1.head())\n",
    "\n",
    "print('Dataframe after addition')\n",
    "df1.loc[len(df1.index)]=['F',59,76,55,91]\n",
    "print(df1.head(10))\n",
    "#Note df1.head(10) means to print first 10 entries in the dataframe"
   ]
  },
  {
   "cell_type": "markdown",
   "id": "7d0b67c1",
   "metadata": {},
   "source": [
    "## Loading dataset from different formats "
   ]
  },
  {
   "cell_type": "markdown",
   "id": "f059603b",
   "metadata": {},
   "source": [
    "#### (1) Loading a csv file"
   ]
  },
  {
   "cell_type": "code",
   "execution_count": 12,
   "id": "1f8c5124",
   "metadata": {},
   "outputs": [
    {
     "data": {
      "text/html": [
       "<div>\n",
       "<style scoped>\n",
       "    .dataframe tbody tr th:only-of-type {\n",
       "        vertical-align: middle;\n",
       "    }\n",
       "\n",
       "    .dataframe tbody tr th {\n",
       "        vertical-align: top;\n",
       "    }\n",
       "\n",
       "    .dataframe thead th {\n",
       "        text-align: right;\n",
       "    }\n",
       "</style>\n",
       "<table border=\"1\" class=\"dataframe\">\n",
       "  <thead>\n",
       "    <tr style=\"text-align: right;\">\n",
       "      <th></th>\n",
       "      <th>Student Name</th>\n",
       "      <th>Maths</th>\n",
       "      <th>Science</th>\n",
       "      <th>Literature</th>\n",
       "      <th>History</th>\n",
       "    </tr>\n",
       "  </thead>\n",
       "  <tbody>\n",
       "    <tr>\n",
       "      <th>0</th>\n",
       "      <td>A</td>\n",
       "      <td>92</td>\n",
       "      <td>89</td>\n",
       "      <td>68</td>\n",
       "      <td>85</td>\n",
       "    </tr>\n",
       "    <tr>\n",
       "      <th>1</th>\n",
       "      <td>B</td>\n",
       "      <td>58</td>\n",
       "      <td>67</td>\n",
       "      <td>89</td>\n",
       "      <td>96</td>\n",
       "    </tr>\n",
       "    <tr>\n",
       "      <th>2</th>\n",
       "      <td>C</td>\n",
       "      <td>75</td>\n",
       "      <td>85</td>\n",
       "      <td>70</td>\n",
       "      <td>45</td>\n",
       "    </tr>\n",
       "    <tr>\n",
       "      <th>3</th>\n",
       "      <td>D</td>\n",
       "      <td>89</td>\n",
       "      <td>49</td>\n",
       "      <td>78</td>\n",
       "      <td>63</td>\n",
       "    </tr>\n",
       "    <tr>\n",
       "      <th>4</th>\n",
       "      <td>E</td>\n",
       "      <td>63</td>\n",
       "      <td>76</td>\n",
       "      <td>95</td>\n",
       "      <td>72</td>\n",
       "    </tr>\n",
       "  </tbody>\n",
       "</table>\n",
       "</div>"
      ],
      "text/plain": [
       "  Student Name  Maths  Science  Literature  History\n",
       "0            A     92       89          68       85\n",
       "1            B     58       67          89       96\n",
       "2            C     75       85          70       45\n",
       "3            D     89       49          78       63\n",
       "4            E     63       76          95       72"
      ]
     },
     "execution_count": 12,
     "metadata": {},
     "output_type": "execute_result"
    }
   ],
   "source": [
    "df=pd.read_csv('data.csv')\n",
    "# Here the name of the csv file is data.csv.\n",
    "# Note that the csv file has to be on the same directory as the python notebook\n",
    "df.head()"
   ]
  },
  {
   "cell_type": "markdown",
   "id": "8a1b168d",
   "metadata": {},
   "source": [
    "#### (2) Loading an excel file"
   ]
  },
  {
   "cell_type": "code",
   "execution_count": 13,
   "id": "893dfae3",
   "metadata": {},
   "outputs": [
    {
     "data": {
      "text/html": [
       "<div>\n",
       "<style scoped>\n",
       "    .dataframe tbody tr th:only-of-type {\n",
       "        vertical-align: middle;\n",
       "    }\n",
       "\n",
       "    .dataframe tbody tr th {\n",
       "        vertical-align: top;\n",
       "    }\n",
       "\n",
       "    .dataframe thead th {\n",
       "        text-align: right;\n",
       "    }\n",
       "</style>\n",
       "<table border=\"1\" class=\"dataframe\">\n",
       "  <thead>\n",
       "    <tr style=\"text-align: right;\">\n",
       "      <th></th>\n",
       "      <th>Student Name</th>\n",
       "      <th>Maths</th>\n",
       "      <th>Science</th>\n",
       "      <th>Literature</th>\n",
       "      <th>History</th>\n",
       "    </tr>\n",
       "  </thead>\n",
       "  <tbody>\n",
       "    <tr>\n",
       "      <th>0</th>\n",
       "      <td>A</td>\n",
       "      <td>92</td>\n",
       "      <td>89</td>\n",
       "      <td>68</td>\n",
       "      <td>85</td>\n",
       "    </tr>\n",
       "    <tr>\n",
       "      <th>1</th>\n",
       "      <td>B</td>\n",
       "      <td>58</td>\n",
       "      <td>67</td>\n",
       "      <td>89</td>\n",
       "      <td>96</td>\n",
       "    </tr>\n",
       "    <tr>\n",
       "      <th>2</th>\n",
       "      <td>C</td>\n",
       "      <td>75</td>\n",
       "      <td>85</td>\n",
       "      <td>70</td>\n",
       "      <td>45</td>\n",
       "    </tr>\n",
       "    <tr>\n",
       "      <th>3</th>\n",
       "      <td>D</td>\n",
       "      <td>89</td>\n",
       "      <td>49</td>\n",
       "      <td>78</td>\n",
       "      <td>63</td>\n",
       "    </tr>\n",
       "    <tr>\n",
       "      <th>4</th>\n",
       "      <td>E</td>\n",
       "      <td>63</td>\n",
       "      <td>76</td>\n",
       "      <td>95</td>\n",
       "      <td>72</td>\n",
       "    </tr>\n",
       "  </tbody>\n",
       "</table>\n",
       "</div>"
      ],
      "text/plain": [
       "  Student Name  Maths  Science  Literature  History\n",
       "0            A     92       89          68       85\n",
       "1            B     58       67          89       96\n",
       "2            C     75       85          70       45\n",
       "3            D     89       49          78       63\n",
       "4            E     63       76          95       72"
      ]
     },
     "execution_count": 13,
     "metadata": {},
     "output_type": "execute_result"
    }
   ],
   "source": [
    "df=pd.read_excel('data.xlsx')\n",
    "# Here the name of the excel file is data.xlsx.\n",
    "# Note that the excel file is on the same directory as the python notebook\n",
    "df.head()"
   ]
  },
  {
   "cell_type": "markdown",
   "id": "b696157a",
   "metadata": {},
   "source": [
    "## Converting data frames into different files"
   ]
  },
  {
   "cell_type": "markdown",
   "id": "fc876124",
   "metadata": {},
   "source": [
    "#### Dataframe to excel"
   ]
  },
  {
   "cell_type": "code",
   "execution_count": 14,
   "id": "38b02885",
   "metadata": {},
   "outputs": [],
   "source": [
    "df1.to_excel('data.xlsx',index=False)"
   ]
  },
  {
   "cell_type": "markdown",
   "id": "d326f6d4",
   "metadata": {},
   "source": [
    "#### Dataframe to csv"
   ]
  },
  {
   "cell_type": "code",
   "execution_count": 15,
   "id": "29e78871",
   "metadata": {},
   "outputs": [],
   "source": [
    "df1.to_csv('data.csv',index=False)"
   ]
  },
  {
   "cell_type": "code",
   "execution_count": null,
   "id": "573e9eb9",
   "metadata": {},
   "outputs": [],
   "source": []
  }
 ],
 "metadata": {
  "kernelspec": {
   "display_name": "Python 3 (ipykernel)",
   "language": "python",
   "name": "python3"
  },
  "language_info": {
   "codemirror_mode": {
    "name": "ipython",
    "version": 3
   },
   "file_extension": ".py",
   "mimetype": "text/x-python",
   "name": "python",
   "nbconvert_exporter": "python",
   "pygments_lexer": "ipython3",
   "version": "3.9.7"
  }
 },
 "nbformat": 4,
 "nbformat_minor": 5
}
