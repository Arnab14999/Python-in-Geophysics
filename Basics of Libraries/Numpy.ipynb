{
 "cells": [
  {
   "cell_type": "markdown",
   "id": "78651ad5",
   "metadata": {},
   "source": [
    "## Importing the library"
   ]
  },
  {
   "cell_type": "code",
   "execution_count": 1,
   "id": "d290c7e0",
   "metadata": {},
   "outputs": [],
   "source": [
    "import numpy as np"
   ]
  },
  {
   "cell_type": "markdown",
   "id": "9c07ea95",
   "metadata": {},
   "source": [
    "## Creating a numpy array"
   ]
  },
  {
   "cell_type": "markdown",
   "id": "2313cbed",
   "metadata": {},
   "source": [
    "#### (1) Array containing zeros"
   ]
  },
  {
   "cell_type": "code",
   "execution_count": 2,
   "id": "8d365bc1",
   "metadata": {},
   "outputs": [],
   "source": [
    "length=10\n",
    "zeros=np.zeros(length)"
   ]
  },
  {
   "cell_type": "code",
   "execution_count": 3,
   "id": "c98324af",
   "metadata": {},
   "outputs": [
    {
     "name": "stdout",
     "output_type": "stream",
     "text": [
      "[0. 0. 0. 0. 0. 0. 0. 0. 0. 0.]\n"
     ]
    }
   ],
   "source": [
    "print(zeros)"
   ]
  },
  {
   "cell_type": "markdown",
   "id": "5270374e",
   "metadata": {},
   "source": [
    "#### (2) Array containing ones"
   ]
  },
  {
   "cell_type": "code",
   "execution_count": 4,
   "id": "1d8c0eeb",
   "metadata": {},
   "outputs": [],
   "source": [
    "length=10\n",
    "ones=np.ones(length)"
   ]
  },
  {
   "cell_type": "code",
   "execution_count": 5,
   "id": "d5e750ed",
   "metadata": {},
   "outputs": [
    {
     "name": "stdout",
     "output_type": "stream",
     "text": [
      "[1. 1. 1. 1. 1. 1. 1. 1. 1. 1.]\n"
     ]
    }
   ],
   "source": [
    "print(ones)"
   ]
  },
  {
   "cell_type": "markdown",
   "id": "deef5199",
   "metadata": {},
   "source": [
    "#### (3) Array with fixed starting point, ending point and fixed number of points:"
   ]
  },
  {
   "cell_type": "code",
   "execution_count": 6,
   "id": "31ab2a03",
   "metadata": {},
   "outputs": [],
   "source": [
    "length=10\n",
    "starting_point=1\n",
    "ending_point=10\n",
    "array=np.linspace(starting_point,ending_point,length)"
   ]
  },
  {
   "cell_type": "code",
   "execution_count": 7,
   "id": "9489135c",
   "metadata": {},
   "outputs": [
    {
     "name": "stdout",
     "output_type": "stream",
     "text": [
      "[ 1.  2.  3.  4.  5.  6.  7.  8.  9. 10.]\n"
     ]
    }
   ],
   "source": [
    "print(array)"
   ]
  },
  {
   "cell_type": "code",
   "execution_count": 8,
   "id": "f66ce277",
   "metadata": {},
   "outputs": [
    {
     "name": "stdout",
     "output_type": "stream",
     "text": [
      "[ 1.  2.  3.  4.  5.  6.  7.  8.  9. 10.]\n"
     ]
    }
   ],
   "source": [
    "#You can simply write it as:\n",
    "array=np.linspace(1,10,10)\n",
    "print(array)"
   ]
  },
  {
   "cell_type": "markdown",
   "id": "7a3a649f",
   "metadata": {},
   "source": [
    "#### (4) Array with fixed starting point, ending point and fixed spacing:"
   ]
  },
  {
   "cell_type": "code",
   "execution_count": 9,
   "id": "8f3093df",
   "metadata": {},
   "outputs": [
    {
     "name": "stdout",
     "output_type": "stream",
     "text": [
      "[1.  1.5 2.  2.5 3.  3.5 4.  4.5]\n"
     ]
    }
   ],
   "source": [
    "spacing=0.5\n",
    "starting_point=1\n",
    "ending_point=5\n",
    "array=np.arange(starting_point,ending_point,spacing)\n",
    "print(array)\n",
    "#Note this function creates array with its last element less than the ending point."
   ]
  },
  {
   "cell_type": "code",
   "execution_count": 10,
   "id": "96c4789a",
   "metadata": {},
   "outputs": [
    {
     "name": "stdout",
     "output_type": "stream",
     "text": [
      "[1.  1.5 2.  2.5 3.  3.5 4.  4.5]\n"
     ]
    }
   ],
   "source": [
    "#You can simply write it as:\n",
    "array=np.arange(1,5,0.5)\n",
    "print(array)"
   ]
  },
  {
   "cell_type": "markdown",
   "id": "ff8e17f2",
   "metadata": {},
   "source": [
    "#### (5) Array with self defined data points:"
   ]
  },
  {
   "cell_type": "code",
   "execution_count": 11,
   "id": "da07cd71",
   "metadata": {},
   "outputs": [
    {
     "name": "stdout",
     "output_type": "stream",
     "text": [
      "[1 4 5 8 3]\n"
     ]
    }
   ],
   "source": [
    "array=np.array([1,4,5,8,3])\n",
    "print(array)"
   ]
  },
  {
   "cell_type": "markdown",
   "id": "6c12ce17",
   "metadata": {},
   "source": [
    "## Elements in an array"
   ]
  },
  {
   "cell_type": "markdown",
   "id": "e584d827",
   "metadata": {},
   "source": [
    "#### Finding out the length of the array:"
   ]
  },
  {
   "cell_type": "code",
   "execution_count": 12,
   "id": "c822ba60",
   "metadata": {},
   "outputs": [
    {
     "name": "stdout",
     "output_type": "stream",
     "text": [
      "Length of the array is :  5\n"
     ]
    }
   ],
   "source": [
    "array=np.array([1,4,5,8,3])\n",
    "length=len(array)\n",
    "print('Length of the array is : ',length)"
   ]
  },
  {
   "cell_type": "markdown",
   "id": "6626731a",
   "metadata": {},
   "source": [
    "#### Extracting an element from the array"
   ]
  },
  {
   "cell_type": "code",
   "execution_count": 13,
   "id": "deadc911",
   "metadata": {},
   "outputs": [
    {
     "name": "stdout",
     "output_type": "stream",
     "text": [
      "first element :  1\n",
      "last element :  3\n"
     ]
    }
   ],
   "source": [
    "array=np.array([1,4,5,8,3])\n",
    "\n",
    "#Note indexing in python starts with 0 and ends with length of array -1\n",
    "\n",
    "first_element=array[0]\n",
    "last_element=array[len(array)-1]\n",
    "\n",
    "print('first element : ',first_element)\n",
    "print('last element : ',last_element)"
   ]
  },
  {
   "cell_type": "markdown",
   "id": "ade5746e",
   "metadata": {},
   "source": [
    "#### Finding index of element"
   ]
  },
  {
   "cell_type": "code",
   "execution_count": 14,
   "id": "a1835b9d",
   "metadata": {},
   "outputs": [
    {
     "name": "stdout",
     "output_type": "stream",
     "text": [
      "(array([2, 8], dtype=int64),)\n"
     ]
    }
   ],
   "source": [
    "array=np.array([1,4,5,8,3,6,8,9,5,3])\n",
    "element=5\n",
    "\n",
    "print(np.where(array==5))\n",
    "\n",
    "#Note as 5 occurs twice it gives the index of both the occurances\n",
    "# == is equal to operator in python"
   ]
  },
  {
   "cell_type": "markdown",
   "id": "ff9ee347",
   "metadata": {},
   "source": [
    "#### Slicing an array"
   ]
  },
  {
   "cell_type": "code",
   "execution_count": 15,
   "id": "43d758c3",
   "metadata": {},
   "outputs": [
    {
     "name": "stdout",
     "output_type": "stream",
     "text": [
      "[4 5 8]\n"
     ]
    }
   ],
   "source": [
    "array=np.array([1,4,5,8,3,6,8,9,5,3])\n",
    "first_index=1\n",
    "last_index=4\n",
    "\n",
    "print(array[first_index:last_index])\n",
    "\n",
    "#Note it prints elements from index 1 and before index 4"
   ]
  },
  {
   "cell_type": "markdown",
   "id": "7fad95b4",
   "metadata": {},
   "source": [
    "#### Counting occurance of any condition"
   ]
  },
  {
   "cell_type": "code",
   "execution_count": 16,
   "id": "7205831a",
   "metadata": {},
   "outputs": [
    {
     "name": "stdout",
     "output_type": "stream",
     "text": [
      "6\n"
     ]
    }
   ],
   "source": [
    "array=np.array([1,4,5,8,3,6,8,9,5,3])\n",
    "\n",
    "print(np.count_nonzero(array>4))\n",
    "\n",
    "#Note it prints the number of elements greater than 4\n"
   ]
  },
  {
   "cell_type": "markdown",
   "id": "4805d11e",
   "metadata": {},
   "source": [
    "#### Sorting an array:"
   ]
  },
  {
   "cell_type": "code",
   "execution_count": 17,
   "id": "f1f14398",
   "metadata": {},
   "outputs": [
    {
     "name": "stdout",
     "output_type": "stream",
     "text": [
      "Sorted array :  [1 3 3 4 5 5 6 8 8 9]\n"
     ]
    }
   ],
   "source": [
    "array=np.array([1,4,5,8,3,6,8,9,5,3])\n",
    "print('Sorted array : ',np.sort(array))"
   ]
  },
  {
   "cell_type": "markdown",
   "id": "d99d00b7",
   "metadata": {},
   "source": [
    "## Creating a matrix in numpy"
   ]
  },
  {
   "cell_type": "markdown",
   "id": "22175d98",
   "metadata": {},
   "source": [
    "#### (1) Matrix containing zeros"
   ]
  },
  {
   "cell_type": "code",
   "execution_count": 18,
   "id": "e825d147",
   "metadata": {},
   "outputs": [
    {
     "name": "stdout",
     "output_type": "stream",
     "text": [
      "[[0. 0. 0.]\n",
      " [0. 0. 0.]]\n"
     ]
    }
   ],
   "source": [
    "matrix=np.zeros((2,3))\n",
    "print(matrix)"
   ]
  },
  {
   "cell_type": "markdown",
   "id": "2fc039d3",
   "metadata": {},
   "source": [
    "#### (2) Matrix containing ones"
   ]
  },
  {
   "cell_type": "code",
   "execution_count": 19,
   "id": "c25f9fc8",
   "metadata": {},
   "outputs": [
    {
     "name": "stdout",
     "output_type": "stream",
     "text": [
      "[[1. 1.]\n",
      " [1. 1.]]\n"
     ]
    }
   ],
   "source": [
    "matrix=np.ones((2,2))\n",
    "print(matrix)"
   ]
  },
  {
   "cell_type": "markdown",
   "id": "cd22d4b8",
   "metadata": {},
   "source": [
    "#### (3) Matrix containing self defined data points"
   ]
  },
  {
   "cell_type": "code",
   "execution_count": 20,
   "id": "8b73ae99",
   "metadata": {},
   "outputs": [
    {
     "name": "stdout",
     "output_type": "stream",
     "text": [
      "[[1 2]\n",
      " [3 4]]\n"
     ]
    }
   ],
   "source": [
    "matrix=np.array([[1,2],[3,4]])\n",
    "print(matrix)"
   ]
  },
  {
   "cell_type": "markdown",
   "id": "4e0127ee",
   "metadata": {},
   "source": [
    "## Operations on matrix"
   ]
  },
  {
   "cell_type": "markdown",
   "id": "f4ab21ac",
   "metadata": {},
   "source": [
    "#### Finding shape of the numpy array"
   ]
  },
  {
   "cell_type": "code",
   "execution_count": 21,
   "id": "5a00b23a",
   "metadata": {},
   "outputs": [
    {
     "name": "stdout",
     "output_type": "stream",
     "text": [
      "Shape of array :  (10,)\n",
      "Shape of matrix :  (2, 2)\n"
     ]
    }
   ],
   "source": [
    "array=np.array([1,4,5,8,3,6,8,9,5,3])\n",
    "matrix=np.array([[1,2],[3,4]])\n",
    "\n",
    "print('Shape of array : ',np.shape(array))\n",
    "print('Shape of matrix : ',np.shape(matrix))"
   ]
  },
  {
   "cell_type": "markdown",
   "id": "6b34ecbd",
   "metadata": {},
   "source": [
    "#### Reshaping a matrix"
   ]
  },
  {
   "cell_type": "code",
   "execution_count": 22,
   "id": "05230731",
   "metadata": {},
   "outputs": [
    {
     "name": "stdout",
     "output_type": "stream",
     "text": [
      "Matrix before reshaping\n",
      "[[1 2 3]\n",
      " [5 4 6]]\n",
      "Matrix after reshaping\n",
      "[[1 2]\n",
      " [3 5]\n",
      " [4 6]]\n"
     ]
    }
   ],
   "source": [
    "matrix=np.array([[1,2,3],[5,4,6]])\n",
    "\n",
    "print('Matrix before reshaping')\n",
    "print(matrix)\n",
    "\n",
    "print('Matrix after reshaping')\n",
    "print(np.reshape(matrix,(3,2)))"
   ]
  },
  {
   "cell_type": "markdown",
   "id": "ef59f071",
   "metadata": {},
   "source": [
    "## Some mathematical operations on arrays"
   ]
  },
  {
   "cell_type": "code",
   "execution_count": 23,
   "id": "f6d19a84",
   "metadata": {},
   "outputs": [
    {
     "name": "stdout",
     "output_type": "stream",
     "text": [
      "Sum :  52\n",
      "Mean :  5.2\n"
     ]
    }
   ],
   "source": [
    "array=np.array([1,4,5,8,3,6,8,9,5,3])\n",
    "\n",
    "#Sum of all elements\n",
    "print('Sum : ',np.sum(array))\n",
    "\n",
    "#Mean of all elements\n",
    "print('Mean : ',np.mean(array))"
   ]
  },
  {
   "cell_type": "markdown",
   "id": "3fdb28b3",
   "metadata": {},
   "source": [
    "## Some mathematical operations on matrices"
   ]
  },
  {
   "cell_type": "code",
   "execution_count": 24,
   "id": "88ca805e",
   "metadata": {},
   "outputs": [
    {
     "name": "stdout",
     "output_type": "stream",
     "text": [
      "Determinent :  -6.0\n",
      "Inverse\n",
      "[[-0.66666667  0.33333333]\n",
      " [ 0.83333333 -0.16666667]]\n"
     ]
    }
   ],
   "source": [
    "matrix=np.array([[1,2],[5,4]])\n",
    "\n",
    "#Determinent of the matrix\n",
    "print('Determinent : ',np.linalg.det(matrix))\n",
    "\n",
    "#Inverse of the matrix\n",
    "print('Inverse')\n",
    "print(np.linalg.inv(matrix))"
   ]
  },
  {
   "cell_type": "markdown",
   "id": "53c0cf94",
   "metadata": {},
   "source": [
    "#### There are a lot of interesting numpy functions like finding fourier transform, sine, cosine of arrays. It solves a lot of linear algebra problems"
   ]
  },
  {
   "cell_type": "markdown",
   "id": "8bab091c",
   "metadata": {},
   "source": [
    "To view click \n",
    "<a href=\"https://numpy.org/doc/stable/reference/\">Learn more about Numpy</a>\n"
   ]
  },
  {
   "cell_type": "code",
   "execution_count": null,
   "id": "fa67e29a",
   "metadata": {},
   "outputs": [],
   "source": []
  }
 ],
 "metadata": {
  "kernelspec": {
   "display_name": "Python 3 (ipykernel)",
   "language": "python",
   "name": "python3"
  },
  "language_info": {
   "codemirror_mode": {
    "name": "ipython",
    "version": 3
   },
   "file_extension": ".py",
   "mimetype": "text/x-python",
   "name": "python",
   "nbconvert_exporter": "python",
   "pygments_lexer": "ipython3",
   "version": "3.9.7"
  }
 },
 "nbformat": 4,
 "nbformat_minor": 5
}
